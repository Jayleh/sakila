{
 "cells": [
  {
   "cell_type": "raw",
   "metadata": {},
   "source": [
    "-- Use sakila database\n",
    "USE sakila;"
   ]
  },
  {
   "cell_type": "raw",
   "metadata": {},
   "source": [
    "-- 1a. Display first and last names of all actors\n",
    "SELECT first_name, last_name FROM actor;"
   ]
  },
  {
   "cell_type": "raw",
   "metadata": {},
   "source": [
    "-- 2a. Find the ID number, first name, and last name of an actor, of whom you know only the first name, 'Joe'\n",
    "SELECT actor_id, first_name, last_name FROM actor\n",
    "WHERE first_name = 'Joe';"
   ]
  },
  {
   "cell_type": "raw",
   "metadata": {},
   "source": [
    "-- 2b. Find all actors whose last name contain the letters GEN\n",
    "SELECT first_name, last_name FROM actor\n",
    "WHERE last_name LIKE '%GEN%';"
   ]
  },
  {
   "cell_type": "raw",
   "metadata": {},
   "source": [
    "-- 2c. Find all actors whose last names contain the letters LI. This time, order the rows by last name and first name, in that order\n",
    "SELECT first_name, last_name FROM actor\n",
    "WHERE last_name LIKE '%LI%'\n",
    "ORDER BY last_name, first_name;"
   ]
  },
  {
   "cell_type": "raw",
   "metadata": {},
   "source": [
    "-- 2d. Using IN, display the country_id and country columns of the following countries: Afghanistan, Bangladesh, and China\n",
    "SELECT country_id, country FROM country\n",
    "WHERE country IN ('Afghanistan', 'Bangladesh', 'China');"
   ]
  },
  {
   "cell_type": "raw",
   "metadata": {},
   "source": [
    "-- 3a. Add middle_name column to table actor and position between first_name and last_name\n",
    "ALTER TABLE actor\n",
    "ADD middle_name VARCHAR(30)\n",
    "AFTER first_name;"
   ]
  },
  {
   "cell_type": "raw",
   "metadata": {},
   "source": [
    "-- 3b. Change the data type of the middle_name column to blobs\n",
    "ALTER TABLE actor\n",
    "MODIFY COLUMN middle_name BLOB;"
   ]
  },
  {
   "cell_type": "raw",
   "metadata": {},
   "source": [
    "-- 3c. Delete the middle_name column\n",
    "ALTER TABLE actor\n",
    "DROP COLUMN middle_name;"
   ]
  },
  {
   "cell_type": "raw",
   "metadata": {},
   "source": [
    "-- 4a. List the last names of actors, as well as how many actors that have that last name\n",
    "SELECT last_name, COUNT(*) AS count FROM actor\n",
    "GROUP BY last_name;"
   ]
  },
  {
   "cell_type": "raw",
   "metadata": {},
   "source": [
    "-- 4b. List last names of actors and the number of actors who have that last name, but only those by at least two actors\n",
    "SELECT last_name, COUNT(*) AS count FROM actor\n",
    "GROUP BY last_name\n",
    "HAVING count > 1;"
   ]
  },
  {
   "cell_type": "raw",
   "metadata": {},
   "source": [
    "-- 4c. Change actor GROUCHO WILLIAMS to HARPO WILLIAMS\n",
    "UPDATE actor SET first_name = 'HARPO'\n",
    "WHERE first_name = 'GROUCHO' AND last_name = 'WILLIAMS';"
   ]
  },
  {
   "cell_type": "raw",
   "metadata": {},
   "source": [
    "-- 4d. Change back to HARPO, if already GROUCHO then MUCHO GROUCHO\n",
    "UPDATE actor \n",
    "SET \n",
    "    first_name = CASE\n",
    "        WHEN first_name = 'HARPO' THEN 'GROUCHO'\n",
    "        WHEN first_name = 'GROUCHO' THEN 'MUCHO GROUCHO'\n",
    "        ELSE first_name\n",
    "    END\n",
    "WHERE\n",
    "    actor_id = 172;"
   ]
  },
  {
   "cell_type": "raw",
   "metadata": {},
   "source": [
    "-- 5a. Query to show how to recreate address table from sakila database\n",
    "SHOW CREATE TABLE sakila.address;"
   ]
  },
  {
   "cell_type": "raw",
   "metadata": {},
   "source": [
    "-- 6a. Display staff members' addresses\n",
    "SELECT s.first_name, s.last_name, a.address\n",
    "FROM staff s\n",
    "\tJOIN address a USING (address_id);"
   ]
  },
  {
   "cell_type": "raw",
   "metadata": {},
   "source": [
    "-- 6b. Display the total amount rung up by each staff member in August of 2005\n",
    "SELECT s.first_name, s.last_name, SUM(p.amount) AS 'total_amount'\n",
    "FROM staff s\n",
    "\tJOIN payment p USING (staff_id)\n",
    "WHERE p.payment_date LIKE '2005-08%'\n",
    "GROUP BY staff_id;"
   ]
  },
  {
   "cell_type": "raw",
   "metadata": {},
   "source": [
    "-- 6c. List each film and the number of actors who are listed for that film\n",
    "SELECT f.title, COUNT(fa.film_id) AS 'Number of actors'\n",
    "FROM film f\n",
    "\tJOIN film_actor fa USING (film_id)\n",
    "GROUP BY f.title;"
   ]
  },
  {
   "cell_type": "raw",
   "metadata": {},
   "source": [
    "-- 6d. How many copies of the film Hunchback Impossible exist in the inventory system?\n",
    "SELECT COUNT(*) FROM inventory\n",
    "WHERE film_id IN (\n",
    "\tSELECT film_id FROM film\n",
    "\tWHERE title = 'HUNCHBACK IMPOSSIBLE'\n",
    ");"
   ]
  },
  {
   "cell_type": "raw",
   "metadata": {},
   "source": [
    "-- 6e. List the total paid by each customer. List the customers alphabetically by last name\n",
    "SELECT c.first_name, c.last_name, SUM(p.amount) AS 'Total Amount Paid'\n",
    "FROM customer c\n",
    "\tJOIN payment p USING (customer_id)\n",
    "GROUP BY customer_id\n",
    "ORDER BY last_name;"
   ]
  },
  {
   "cell_type": "raw",
   "metadata": {},
   "source": [
    "-- 7a. Display the titles of movies starting with the letters K and Q whose language is English\n",
    "SELECT title FROM film\n",
    "WHERE title LIKE 'K%' OR title LIKE 'Q%' AND language_id IN (\n",
    "\tSELECT language_id FROM language\n",
    "    WHERE name = 'English'\n",
    ");"
   ]
  },
  {
   "cell_type": "raw",
   "metadata": {},
   "source": [
    "-- 7b. Display all actors who appear in the film Alone Trip\n",
    "SELECT first_name, last_name FROM actor\n",
    "WHERE actor_id IN (\n",
    "\tSELECT actor_id FROM film_actor\n",
    "    WHERE film_id IN (\n",
    "\t\tSELECT film_id FROM film\n",
    "        WHERE title = 'Alone Trip'\n",
    "    )\n",
    ");"
   ]
  },
  {
   "cell_type": "raw",
   "metadata": {},
   "source": [
    "-- 7c. Display the names and email addresses of all Canadian customers\n",
    "SELECT cust.first_name, cust.last_name, cust.email\n",
    "FROM customer cust\n",
    "\tJOIN address USING (address_id)\n",
    "    JOIN city USING (city_id)\n",
    "    JOIN country USING (country_id)\n",
    "WHERE country = 'Canada';"
   ]
  },
  {
   "cell_type": "raw",
   "metadata": {},
   "source": [
    "-- 7d. Identify all movies categorized as family films\n",
    "SELECT title FROM film\n",
    "WHERE film_id IN (\n",
    "\tSELECT film_id FROM film_category\n",
    "    WHERE category_id IN (\n",
    "\t\tSELECT category_id FROM category\n",
    "        WHERE name = 'Family'\n",
    "\t)\n",
    ");"
   ]
  },
  {
   "cell_type": "raw",
   "metadata": {},
   "source": [
    "-- 7e. Display the most frequently rented movies in descending order\n",
    "SELECT f.title, COUNT(p.rental_id) AS 'Number of Times Rented'\n",
    "FROM film f\n",
    "\tJOIN inventory USING (film_id)\n",
    "    JOIN rental USING (inventory_id)\n",
    "    JOIN payment p USING (rental_id)\n",
    "GROUP BY f.title\n",
    "ORDER BY `Number of Times Rented` DESC;"
   ]
  },
  {
   "cell_type": "raw",
   "metadata": {},
   "source": [
    "-- 7f. Display how much business, in dollars, each store brought in\n",
    "SELECT staff.store_id, SUM(payment.amount) AS 'Total Revenue'\n",
    "FROM staff\n",
    "\tJOIN rental USING (staff_id)\n",
    "    JOIN payment USING (rental_id)\n",
    "GROUP BY staff.store_id;"
   ]
  },
  {
   "cell_type": "raw",
   "metadata": {},
   "source": [
    "-- 7g. Display for each store its store ID, city, and country\n",
    "SELECT s.store_id, city.city, country.country\n",
    "FROM store s\n",
    "\tJOIN address USING (address_id)\n",
    "    JOIN city USING (city_id)\n",
    "    JOIN country USING (country_id);"
   ]
  },
  {
   "cell_type": "raw",
   "metadata": {},
   "source": [
    "-- 7h. List the top five genres in gross revenue in descending order\n",
    "SELECT cat.name, SUM(p.amount) AS 'Gross Revenue'\n",
    "FROM category cat\n",
    "\tJOIN film_category USING (category_id)\n",
    "    JOIN inventory USING (film_id)\n",
    "    JOIN rental USING (inventory_id)\n",
    "    JOIN payment p USING (rental_id)\n",
    "GROUP BY cat.name\n",
    "ORDER BY `Gross Revenue` DESC\n",
    "LIMIT 5;"
   ]
  },
  {
   "cell_type": "raw",
   "metadata": {},
   "source": [
    "-- 8a. Create a view of the top five genres by gross revenue\n",
    "CREATE VIEW top_five_genres AS\n",
    "SELECT cat.name, SUM(p.amount) AS 'Gross Revenue'\n",
    "FROM category cat\n",
    "\tJOIN film_category USING (category_id)\n",
    "    JOIN inventory USING (film_id)\n",
    "    JOIN rental USING (inventory_id)\n",
    "    JOIN payment p USING (rental_id)\n",
    "GROUP BY cat.name\n",
    "ORDER BY `Gross Revenue` DESC\n",
    "LIMIT 5;"
   ]
  },
  {
   "cell_type": "raw",
   "metadata": {},
   "source": [
    "-- 8b. Display top_five_genres view\n",
    "SELECT * FROM top_five_genres;"
   ]
  },
  {
   "cell_type": "raw",
   "metadata": {},
   "source": [
    "-- 8c. Delete top_five_genres view\n",
    "DROP VIEW IF EXISTS top_five_genres;"
   ]
  }
 ],
 "metadata": {
  "kernelspec": {
   "display_name": "Python [conda env:PythonData]",
   "language": "python",
   "name": "conda-env-PythonData-py"
  },
  "language_info": {
   "codemirror_mode": {
    "name": "ipython",
    "version": 3
   },
   "file_extension": ".py",
   "mimetype": "text/x-python",
   "name": "python",
   "nbconvert_exporter": "python",
   "pygments_lexer": "ipython3",
   "version": "3.6.3"
  }
 },
 "nbformat": 4,
 "nbformat_minor": 2
}
